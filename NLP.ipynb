{
 "cells": [
  {
   "cell_type": "markdown",
   "id": "5099926b",
   "metadata": {},
   "source": [
    "### Importing some libraries and functions for preprocessing the text"
   ]
  },
  {
   "cell_type": "code",
   "execution_count": 2,
   "id": "8c027256",
   "metadata": {},
   "outputs": [],
   "source": [
    "import pandas as pd\n",
    "import numpy as np\n",
    "import re\n",
    "import nltk\n",
    "from nltk.corpus import stopwords"
   ]
  },
  {
   "cell_type": "markdown",
   "id": "7e842b5e",
   "metadata": {},
   "source": [
    "### Importing IMDb Movie Reviews dataset"
   ]
  },
  {
   "cell_type": "code",
   "execution_count": 3,
   "id": "468446bc",
   "metadata": {},
   "outputs": [
    {
     "data": {
      "text/html": [
       "<div>\n",
       "<style scoped>\n",
       "    .dataframe tbody tr th:only-of-type {\n",
       "        vertical-align: middle;\n",
       "    }\n",
       "\n",
       "    .dataframe tbody tr th {\n",
       "        vertical-align: top;\n",
       "    }\n",
       "\n",
       "    .dataframe thead th {\n",
       "        text-align: right;\n",
       "    }\n",
       "</style>\n",
       "<table border=\"1\" class=\"dataframe\">\n",
       "  <thead>\n",
       "    <tr style=\"text-align: right;\">\n",
       "      <th></th>\n",
       "      <th>review</th>\n",
       "      <th>sentiment</th>\n",
       "    </tr>\n",
       "  </thead>\n",
       "  <tbody>\n",
       "    <tr>\n",
       "      <th>0</th>\n",
       "      <td>One of the other reviewers has mentioned that ...</td>\n",
       "      <td>positive</td>\n",
       "    </tr>\n",
       "    <tr>\n",
       "      <th>1</th>\n",
       "      <td>A wonderful little production. &lt;br /&gt;&lt;br /&gt;The...</td>\n",
       "      <td>positive</td>\n",
       "    </tr>\n",
       "    <tr>\n",
       "      <th>2</th>\n",
       "      <td>I thought this was a wonderful way to spend ti...</td>\n",
       "      <td>positive</td>\n",
       "    </tr>\n",
       "  </tbody>\n",
       "</table>\n",
       "</div>"
      ],
      "text/plain": [
       "                                              review sentiment\n",
       "0  One of the other reviewers has mentioned that ...  positive\n",
       "1  A wonderful little production. <br /><br />The...  positive\n",
       "2  I thought this was a wonderful way to spend ti...  positive"
      ]
     },
     "execution_count": 3,
     "metadata": {},
     "output_type": "execute_result"
    }
   ],
   "source": [
    "df = pd.read_csv('IMDB Dataset.csv')\n",
    "df.head(3)"
   ]
  },
  {
   "cell_type": "markdown",
   "id": "f6640ac1",
   "metadata": {},
   "source": [
    "#### Dataset exploration\n"
   ]
  },
  {
   "cell_type": "code",
   "execution_count": 4,
   "id": "6c4c6c41",
   "metadata": {},
   "outputs": [
    {
     "data": {
      "text/plain": [
       "(50000, 2)"
      ]
     },
     "execution_count": 4,
     "metadata": {},
     "output_type": "execute_result"
    }
   ],
   "source": [
    "df.shape"
   ]
  },
  {
   "cell_type": "code",
   "execution_count": 5,
   "id": "64192876",
   "metadata": {
    "scrolled": true
   },
   "outputs": [
    {
     "data": {
      "text/plain": [
       "False"
      ]
     },
     "execution_count": 5,
     "metadata": {},
     "output_type": "execute_result"
    }
   ],
   "source": [
    "df.isnull().values.any()"
   ]
  },
  {
   "cell_type": "code",
   "execution_count": 9,
   "id": "4fca63fe",
   "metadata": {},
   "outputs": [
    {
     "data": {
      "text/plain": [
       "sentiment\n",
       "positive    25000\n",
       "negative    25000\n",
       "Name: count, dtype: int64"
      ]
     },
     "execution_count": 9,
     "metadata": {},
     "output_type": "execute_result"
    }
   ],
   "source": [
    "df['sentiment'].value_counts()"
   ]
  },
  {
   "cell_type": "markdown",
   "id": "99dcb641",
   "metadata": {},
   "source": [
    "#### Distribution of positive / negative sentiments in dataset"
   ]
  },
  {
   "cell_type": "code",
   "execution_count": 6,
   "id": "16771aa5",
   "metadata": {},
   "outputs": [
    {
     "data": {
      "text/plain": [
       "<Axes: xlabel='sentiment', ylabel='count'>"
      ]
     },
     "execution_count": 6,
     "metadata": {},
     "output_type": "execute_result"
    },
    {
     "data": {
      "image/png": "[encoded data removed]",
      "text/plain": [
       "<Figure size 640x480 with 1 Axes>"
      ]
     },
     "metadata": {},
     "output_type": "display_data"
    }
   ],
   "source": [
    "import seaborn as sns\n",
    "sns.countplot(x='sentiment', data=df)"
   ]
  },
  {
   "cell_type": "code",
   "execution_count": 12,
   "id": "4feacb00",
   "metadata": {},
   "outputs": [
    {
     "name": "stdout",
     "output_type": "stream",
     "text": [
      "Review number - 1\n",
      "One of the other reviewers has mentioned that after watching just 1 Oz episode you'll be hooked. They are right, as this is exactly what happened with me.<br /><br />The first thing that struck me about Oz was its brutality and unflinching scenes of violence, which set in right from the word GO. Trust me, this is not a show for the faint hearted or timid. This show pulls no punches with regards to drugs, sex or violence. Its is hardcore, in the classic use of the word.<br /><br />It is called OZ as that is the nickname given to the Oswald Maximum Security State Penitentary. It focuses mainly on Emerald City, an experimental section of the prison where all the cells have glass fronts and face inwards, so privacy is not high on the agenda. Em City is home to many..Aryans, Muslims, gangstas, Latinos, Christians, Italians, Irish and more....so scuffles, death stares, dodgy dealings and shady agreements are never far away.<br /><br />I would say the main appeal of the show is due to the fact that it goes where other shows wouldn't dare. Forget pretty pictures painted for mainstream audiences, forget charm, forget romance...OZ doesn't mess around. The first episode I ever saw struck me as so nasty it was surreal, I couldn't say I was ready for it, but as I watched more, I developed a taste for Oz, and got accustomed to the high levels of graphic violence. Not just violence, but injustice (crooked guards who'll be sold out for a nickel, inmates who'll kill on order and get away with it, well mannered, middle class inmates being turned into prison bitches due to their lack of street skills or prison experience) Watching Oz, you may become comfortable with what is uncomfortable viewing....thats if you can get in touch with your darker side. \n",
      "\n",
      "Sentiment:  positive \n",
      "\n",
      "\n",
      "Review number - 2\n",
      "A wonderful little production. <br /><br />The filming technique is very unassuming- very old-time-BBC fashion and gives a comforting, and sometimes discomforting, sense of realism to the entire piece. <br /><br />The actors are extremely well chosen- Michael Sheen not only \"has got all the polari\" but he has all the voices down pat too! You can truly see the seamless editing guided by the references to Williams' diary entries, not only is it well worth the watching but it is a terrificly written and performed piece. A masterful production about one of the great master's of comedy and his life. <br /><br />The realism really comes home with the little things: the fantasy of the guard which, rather than use the traditional 'dream' techniques remains solid then disappears. It plays on our knowledge and our senses, particularly with the scenes concerning Orton and Halliwell and the sets (particularly of their flat with Halliwell's murals decorating every surface) are terribly well done. \n",
      "\n",
      "Sentiment:  positive \n",
      "\n",
      "\n"
     ]
    }
   ],
   "source": [
    "for i in range(2):\n",
    "    print(\"Review number -\",i+1)\n",
    "    print(df['review'].iloc[i], \"\\n\")\n",
    "    print(\"Sentiment: \", df['sentiment'].iloc[i], \"\\n\\n\")\n",
    "# our text contains punctuations, brackets, HTML tags and numbers "
   ]
  },
  {
   "cell_type": "markdown",
   "id": "18548f6f",
   "metadata": {},
   "source": [
    "## 1)TOKENIZING"
   ]
  },
  {
   "cell_type": "markdown",
   "id": "f6c59984",
   "metadata": {},
   "source": [
    "### 1.1)TOKENIZING WORDS"
   ]
  },
  {
   "cell_type": "code",
   "execution_count": 13,
   "id": "a4e405e7",
   "metadata": {},
   "outputs": [
    {
     "name": "stdout",
     "output_type": "stream",
     "text": [
      "WORD 1 - Basically\n",
      "WORD 2 - there\n",
      "WORD 3 - 's\n",
      "WORD 4 - a\n",
      "WORD 5 - family\n",
      "WORD 6 - where\n",
      "WORD 7 - a\n",
      "WORD 8 - little\n",
      "WORD 9 - boy\n",
      "WORD 10 - (\n",
      "WORD 11 - Jake\n",
      "WORD 12 - )\n",
      "WORD 13 - thinks\n",
      "WORD 14 - there\n",
      "WORD 15 - 's\n",
      "WORD 16 - a\n",
      "WORD 17 - zombie\n",
      "WORD 18 - in\n",
      "WORD 19 - his\n",
      "WORD 20 - closet\n",
      "WORD 21 - &\n",
      "WORD 22 - his\n",
      "WORD 23 - parents\n",
      "WORD 24 - are\n",
      "WORD 25 - fighting\n",
      "WORD 26 - all\n",
      "WORD 27 - the\n",
      "WORD 28 - time.\n",
      "WORD 29 - <\n",
      "WORD 30 - br\n",
      "WORD 31 - /\n",
      "WORD 32 - >\n",
      "WORD 33 - <\n",
      "WORD 34 - br\n",
      "WORD 35 - /\n",
      "WORD 36 - >\n",
      "WORD 37 - This\n",
      "WORD 38 - movie\n",
      "WORD 39 - is\n",
      "WORD 40 - slower\n",
      "WORD 41 - than\n",
      "WORD 42 - a\n",
      "WORD 43 - soap\n",
      "WORD 44 - opera\n",
      "WORD 45 - ...\n",
      "WORD 46 - and\n",
      "WORD 47 - suddenly\n",
      "WORD 48 - ,\n",
      "WORD 49 - Jake\n",
      "WORD 50 - decides\n",
      "WORD 51 - to\n",
      "WORD 52 - become\n",
      "WORD 53 - Rambo\n",
      "WORD 54 - and\n",
      "WORD 55 - kill\n",
      "WORD 56 - the\n",
      "WORD 57 - zombie.\n",
      "WORD 58 - <\n",
      "WORD 59 - br\n",
      "WORD 60 - /\n",
      "WORD 61 - >\n",
      "WORD 62 - <\n",
      "WORD 63 - br\n",
      "WORD 64 - /\n",
      "WORD 65 - >\n",
      "WORD 66 - OK\n",
      "WORD 67 - ,\n",
      "WORD 68 - first\n",
      "WORD 69 - of\n",
      "WORD 70 - all\n",
      "WORD 71 - when\n",
      "WORD 72 - you\n",
      "WORD 73 - 're\n",
      "WORD 74 - going\n",
      "WORD 75 - to\n",
      "WORD 76 - make\n",
      "WORD 77 - a\n",
      "WORD 78 - film\n",
      "WORD 79 - you\n",
      "WORD 80 - must\n",
      "WORD 81 - Decide\n",
      "WORD 82 - if\n",
      "WORD 83 - its\n",
      "WORD 84 - a\n",
      "WORD 85 - thriller\n",
      "WORD 86 - or\n",
      "WORD 87 - a\n",
      "WORD 88 - drama\n",
      "WORD 89 - !\n",
      "WORD 90 - As\n",
      "WORD 91 - a\n",
      "WORD 92 - drama\n",
      "WORD 93 - the\n",
      "WORD 94 - movie\n",
      "WORD 95 - is\n",
      "WORD 96 - watchable\n",
      "WORD 97 - .\n",
      "WORD 98 - Parents\n",
      "WORD 99 - are\n",
      "WORD 100 - divorcing\n",
      "WORD 101 - &\n",
      "WORD 102 - arguing\n",
      "WORD 103 - like\n",
      "WORD 104 - in\n",
      "WORD 105 - real\n",
      "WORD 106 - life\n",
      "WORD 107 - .\n",
      "WORD 108 - And\n",
      "WORD 109 - then\n",
      "WORD 110 - we\n",
      "WORD 111 - have\n",
      "WORD 112 - Jake\n",
      "WORD 113 - with\n",
      "WORD 114 - his\n",
      "WORD 115 - closet\n",
      "WORD 116 - which\n",
      "WORD 117 - totally\n",
      "WORD 118 - ruins\n",
      "WORD 119 - all\n",
      "WORD 120 - the\n",
      "WORD 121 - film\n",
      "WORD 122 - !\n",
      "WORD 123 - I\n",
      "WORD 124 - expected\n",
      "WORD 125 - to\n",
      "WORD 126 - see\n",
      "WORD 127 - a\n",
      "WORD 128 - BOOGEYMAN\n",
      "WORD 129 - similar\n",
      "WORD 130 - movie\n",
      "WORD 131 - ,\n",
      "WORD 132 - and\n",
      "WORD 133 - instead\n",
      "WORD 134 - i\n",
      "WORD 135 - watched\n",
      "WORD 136 - a\n",
      "WORD 137 - drama\n",
      "WORD 138 - with\n",
      "WORD 139 - some\n",
      "WORD 140 - meaningless\n",
      "WORD 141 - thriller\n",
      "WORD 142 - spots.\n",
      "WORD 143 - <\n",
      "WORD 144 - br\n",
      "WORD 145 - /\n",
      "WORD 146 - >\n",
      "WORD 147 - <\n",
      "WORD 148 - br\n",
      "WORD 149 - /\n",
      "WORD 150 - >\n",
      "WORD 151 - 3\n",
      "WORD 152 - out\n",
      "WORD 153 - of\n",
      "WORD 154 - 10\n",
      "WORD 155 - just\n",
      "WORD 156 - for\n",
      "WORD 157 - the\n",
      "WORD 158 - well\n",
      "WORD 159 - playing\n",
      "WORD 160 - parents\n",
      "WORD 161 - &\n",
      "WORD 162 - descent\n",
      "WORD 163 - dialogs\n",
      "WORD 164 - .\n",
      "WORD 165 - As\n",
      "WORD 166 - for\n",
      "WORD 167 - the\n",
      "WORD 168 - shots\n",
      "WORD 169 - with\n",
      "WORD 170 - Jake\n",
      "WORD 171 - :\n",
      "WORD 172 - just\n",
      "WORD 173 - ignore\n",
      "WORD 174 - them\n",
      "WORD 175 - .\n",
      "\n",
      "Total words in 4th review : \n",
      "175\n"
     ]
    }
   ],
   "source": [
    "from nltk.tokenize import word_tokenize\n",
    "\n",
    "tokenize_words = word_tokenize(df['review'].iloc[3])\n",
    "for i in range(len(tokenize_words)):\n",
    "    print('WORD',(i+1), '-', tokenize_words[i])\n",
    "#     print('\\n')\n",
    "print(\"\\nTotal words in 4th review : \")\n",
    "print(len(tokenize_words))"
   ]
  },
  {
   "cell_type": "markdown",
   "id": "2b20467d",
   "metadata": {},
   "source": [
    "### 1.2)TOKENIZING SENTENCES"
   ]
  },
  {
   "cell_type": "code",
   "execution_count": 15,
   "id": "b74318bb",
   "metadata": {},
   "outputs": [
    {
     "name": "stdout",
     "output_type": "stream",
     "text": [
      "Total sentences in 4th review : \n",
      "6\n",
      "\n",
      "SENTENCE NUMBER - 1\n",
      "Basically there's a family where a little boy (Jake) thinks there's a zombie in his closet & his parents are fighting all the time.<br /><br />This movie is slower than a soap opera... and suddenly, Jake decides to become Rambo and kill the zombie.<br /><br />OK, first of all when you're going to make a film you must Decide if its a thriller or a drama!\n",
      "\n",
      "SENTENCE NUMBER - 2\n",
      "As a drama the movie is watchable.\n",
      "\n",
      "SENTENCE NUMBER - 3\n",
      "Parents are divorcing & arguing like in real life.\n",
      "\n",
      "SENTENCE NUMBER - 4\n",
      "And then we have Jake with his closet which totally ruins all the film!\n",
      "\n",
      "SENTENCE NUMBER - 5\n",
      "I expected to see a BOOGEYMAN similar movie, and instead i watched a drama with some meaningless thriller spots.<br /><br />3 out of 10 just for the well playing parents & descent dialogs.\n",
      "\n",
      "SENTENCE NUMBER - 6\n",
      "As for the shots with Jake: just ignore them.\n"
     ]
    }
   ],
   "source": [
    "from nltk.tokenize import sent_tokenize\n",
    "\n",
    "tokenize_sent = sent_tokenize(df['review'].iloc[3])\n",
    "print(\"Total sentences in 4th review : \")\n",
    "print(len(tokenize_sent))\n",
    "for i in range(len(tokenize_sent)):\n",
    "    print('\\nSENTENCE NUMBER -',(i+1))\n",
    "    print(tokenize_sent[i])"
   ]
  },
  {
   "cell_type": "markdown",
   "id": "ca5681b9",
   "metadata": {},
   "source": [
    "### 2) LEMMATIZATION"
   ]
  },
  {
   "cell_type": "code",
   "execution_count": 16,
   "id": "177a2f76",
   "metadata": {},
   "outputs": [
    {
     "name": "stdout",
     "output_type": "stream",
     "text": [
      "Lemmatiztion:Converts allverb forms into root word:\n",
      "good\n"
     ]
    }
   ],
   "source": [
    "#Lemmatiztion:Converts allverb forms into root word\n",
    "print(\"Lemmatiztion:Converts allverb forms into root word:\")\n",
    "from nltk.stem import WordNetLemmatizer\n",
    "lem=WordNetLemmatizer()\n",
    "print(lem.lemmatize(\"better\", pos=\"a\"))\n",
    "# print(\"\\n\")"
   ]
  },
  {
   "cell_type": "markdown",
   "id": "fef7c56c",
   "metadata": {},
   "source": [
    "#### TO LOWERCASE"
   ]
  },
  {
   "cell_type": "code",
   "execution_count": 20,
   "id": "213427bd",
   "metadata": {},
   "outputs": [
    {
     "data": {
      "text/plain": [
       "\"one of the other reviewers has mentioned that after watching just 1 oz episode you'll be hooked. they are right, as this is exactly what happened with me.<br /><br />the first thing that struck me about oz was its brutality and unflinching scenes of violence, which set in right from the word go. trust me, this is not a show for the faint hearted or timid. this show pulls no punches with regards to drugs, sex or violence. its is hardcore, in the classic use of the word.<br /><br />it is called oz as that is the nickname given to the oswald maximum security state penitentary. it focuses mainly on emerald city, an experimental section of the prison where all the cells have glass fronts and face inwards, so privacy is not high on the agenda. em city is home to many..aryans, muslims, gangstas, latinos, christians, italians, irish and more....so scuffles, death stares, dodgy dealings and shady agreements are never far away.<br /><br />i would say the main appeal of the show is due to the fact that it goes where other shows wouldn't dare. forget pretty pictures painted for mainstream audiences, forget charm, forget romance...oz doesn't mess around. the first episode i ever saw struck me as so nasty it was surreal, i couldn't say i was ready for it, but as i watched more, i developed a taste for oz, and got accustomed to the high levels of graphic violence. not just violence, but injustice (crooked guards who'll be sold out for a nickel, inmates who'll kill on order and get away with it, well mannered, middle class inmates being turned into prison bitches due to their lack of street skills or prison experience) watching oz, you may become comfortable with what is uncomfortable viewing....thats if you can get in touch with your darker side.\""
      ]
     },
     "execution_count": 20,
     "metadata": {},
     "output_type": "execute_result"
    }
   ],
   "source": [
    "sentence = df['review'].iloc[0].lower()\n",
    "sentence"
   ]
  },
  {
   "cell_type": "markdown",
   "id": "22a2d8da",
   "metadata": {},
   "source": [
    "#### REMOVING TAGS"
   ]
  },
  {
   "cell_type": "code",
   "execution_count": 21,
   "id": "e823a5f1",
   "metadata": {},
   "outputs": [],
   "source": [
    "import re\n",
    "RE = re.compile(r'<[^>]+>')\n",
    "def remove_tags(text):\n",
    "    '''Removes HTML tags: replaces anything between opening and closing <> with empty space'''\n",
    "    return RE.sub('', text)"
   ]
  },
  {
   "cell_type": "code",
   "execution_count": 22,
   "id": "79d0389a",
   "metadata": {},
   "outputs": [
    {
     "data": {
      "text/plain": [
       "\"one of the other reviewers has mentioned that after watching just 1 oz episode you'll be hooked. they are right, as this is exactly what happened with me.the first thing that struck me about oz was its brutality and unflinching scenes of violence, which set in right from the word go. trust me, this is not a show for the faint hearted or timid. this show pulls no punches with regards to drugs, sex or violence. its is hardcore, in the classic use of the word.it is called oz as that is the nickname given to the oswald maximum security state penitentary. it focuses mainly on emerald city, an experimental section of the prison where all the cells have glass fronts and face inwards, so privacy is not high on the agenda. em city is home to many..aryans, muslims, gangstas, latinos, christians, italians, irish and more....so scuffles, death stares, dodgy dealings and shady agreements are never far away.i would say the main appeal of the show is due to the fact that it goes where other shows wouldn't dare. forget pretty pictures painted for mainstream audiences, forget charm, forget romance...oz doesn't mess around. the first episode i ever saw struck me as so nasty it was surreal, i couldn't say i was ready for it, but as i watched more, i developed a taste for oz, and got accustomed to the high levels of graphic violence. not just violence, but injustice (crooked guards who'll be sold out for a nickel, inmates who'll kill on order and get away with it, well mannered, middle class inmates being turned into prison bitches due to their lack of street skills or prison experience) watching oz, you may become comfortable with what is uncomfortable viewing....thats if you can get in touch with your darker side.\""
      ]
     },
     "execution_count": 22,
     "metadata": {},
     "output_type": "execute_result"
    }
   ],
   "source": [
    "sentence = remove_tags(sentence)\n",
    "sentence"
   ]
  },
  {
   "cell_type": "markdown",
   "id": "6b734885",
   "metadata": {},
   "source": [
    "#### REMOVING PUNCTUATIONS"
   ]
  },
  {
   "cell_type": "code",
   "execution_count": 23,
   "id": "b28207a1",
   "metadata": {},
   "outputs": [
    {
     "data": {
      "text/plain": [
       "'one of the other reviewers has mentioned that after watching just   oz episode you ll be hooked  they are right  as this is exactly what happened with me the first thing that struck me about oz was its brutality and unflinching scenes of violence  which set in right from the word go  trust me  this is not a show for the faint hearted or timid  this show pulls no punches with regards to drugs  sex or violence  its is hardcore  in the classic use of the word it is called oz as that is the nickname given to the oswald maximum security state penitentary  it focuses mainly on emerald city  an experimental section of the prison where all the cells have glass fronts and face inwards  so privacy is not high on the agenda  em city is home to many  aryans  muslims  gangstas  latinos  christians  italians  irish and more    so scuffles  death stares  dodgy dealings and shady agreements are never far away i would say the main appeal of the show is due to the fact that it goes where other shows wouldn t dare  forget pretty pictures painted for mainstream audiences  forget charm  forget romance   oz doesn t mess around  the first episode i ever saw struck me as so nasty it was surreal  i couldn t say i was ready for it  but as i watched more  i developed a taste for oz  and got accustomed to the high levels of graphic violence  not just violence  but injustice  crooked guards who ll be sold out for a nickel  inmates who ll kill on order and get away with it  well mannered  middle class inmates being turned into prison bitches due to their lack of street skills or prison experience  watching oz  you may become comfortable with what is uncomfortable viewing    thats if you can get in touch with your darker side '"
      ]
     },
     "execution_count": 23,
     "metadata": {},
     "output_type": "execute_result"
    }
   ],
   "source": [
    "sentence = re.sub('[^a-zA-Z]', ' ', sentence)\n",
    "sentence"
   ]
  },
  {
   "cell_type": "markdown",
   "id": "f00c7a2f",
   "metadata": {},
   "source": [
    "#### REMOVING SINGLE CHARACTERS"
   ]
  },
  {
   "cell_type": "code",
   "execution_count": 24,
   "id": "e808f8a4",
   "metadata": {},
   "outputs": [
    {
     "data": {
      "text/plain": [
       "'one of the other reviewers has mentioned that after watching just   oz episode you ll be hooked  they are right  as this is exactly what happened with me the first thing that struck me about oz was its brutality and unflinching scenes of violence  which set in right from the word go  trust me  this is not show for the faint hearted or timid  this show pulls no punches with regards to drugs  sex or violence  its is hardcore  in the classic use of the word it is called oz as that is the nickname given to the oswald maximum security state penitentary  it focuses mainly on emerald city  an experimental section of the prison where all the cells have glass fronts and face inwards  so privacy is not high on the agenda  em city is home to many  aryans  muslims  gangstas  latinos  christians  italians  irish and more    so scuffles  death stares  dodgy dealings and shady agreements are never far away would say the main appeal of the show is due to the fact that it goes where other shows wouldn dare  forget pretty pictures painted for mainstream audiences  forget charm  forget romance   oz doesn mess around  the first episode ever saw struck me as so nasty it was surreal couldn say was ready for it  but as watched more developed taste for oz  and got accustomed to the high levels of graphic violence  not just violence  but injustice  crooked guards who ll be sold out for nickel  inmates who ll kill on order and get away with it  well mannered  middle class inmates being turned into prison bitches due to their lack of street skills or prison experience  watching oz  you may become comfortable with what is uncomfortable viewing    thats if you can get in touch with your darker side '"
      ]
     },
     "execution_count": 24,
     "metadata": {},
     "output_type": "execute_result"
    }
   ],
   "source": [
    "sentence = re.sub(r\"\\s+[a-zA-Z]\\s+\", ' ', sentence)\n",
    "sentence"
   ]
  },
  {
   "cell_type": "markdown",
   "id": "9476c073",
   "metadata": {},
   "source": [
    "#### REMOVING EXTRA SPACES"
   ]
  },
  {
   "cell_type": "code",
   "execution_count": 25,
   "id": "48f5f051",
   "metadata": {},
   "outputs": [
    {
     "data": {
      "text/plain": [
       "'one of the other reviewers has mentioned that after watching just oz episode you ll be hooked they are right as this is exactly what happened with me the first thing that struck me about oz was its brutality and unflinching scenes of violence which set in right from the word go trust me this is not show for the faint hearted or timid this show pulls no punches with regards to drugs sex or violence its is hardcore in the classic use of the word it is called oz as that is the nickname given to the oswald maximum security state penitentary it focuses mainly on emerald city an experimental section of the prison where all the cells have glass fronts and face inwards so privacy is not high on the agenda em city is home to many aryans muslims gangstas latinos christians italians irish and more so scuffles death stares dodgy dealings and shady agreements are never far away would say the main appeal of the show is due to the fact that it goes where other shows wouldn dare forget pretty pictures painted for mainstream audiences forget charm forget romance oz doesn mess around the first episode ever saw struck me as so nasty it was surreal couldn say was ready for it but as watched more developed taste for oz and got accustomed to the high levels of graphic violence not just violence but injustice crooked guards who ll be sold out for nickel inmates who ll kill on order and get away with it well mannered middle class inmates being turned into prison bitches due to their lack of street skills or prison experience watching oz you may become comfortable with what is uncomfortable viewing thats if you can get in touch with your darker side '"
      ]
     },
     "execution_count": 25,
     "metadata": {},
     "output_type": "execute_result"
    }
   ],
   "source": [
    "sentence = re.sub(r'\\s+', ' ', sentence)\n",
    "sentence"
   ]
  },
  {
   "cell_type": "markdown",
   "id": "0c080234",
   "metadata": {},
   "source": [
    "## 3) REMOVING STOPWORDS"
   ]
  },
  {
   "cell_type": "code",
   "execution_count": 26,
   "id": "70709c92",
   "metadata": {},
   "outputs": [
    {
     "name": "stdout",
     "output_type": "stream",
     "text": [
      "STOPWORDS IN ENG ARE: \n",
      "['i', 'me', 'my', 'myself', 'we', 'our', 'ours', 'ourselves', 'you', \"you're\", \"you've\", \"you'll\", \"you'd\", 'your', 'yours', 'yourself', 'yourselves', 'he', 'him', 'his', 'himself', 'she', \"she's\", 'her', 'hers', 'herself', 'it', \"it's\", 'its', 'itself', 'they', 'them', 'their', 'theirs', 'themselves', 'what', 'which', 'who', 'whom', 'this', 'that', \"that'll\", 'these', 'those', 'am', 'is', 'are', 'was', 'were', 'be', 'been', 'being', 'have', 'has', 'had', 'having', 'do', 'does', 'did', 'doing', 'a', 'an', 'the', 'and', 'but', 'if', 'or', 'because', 'as', 'until', 'while', 'of', 'at', 'by', 'for', 'with', 'about', 'against', 'between', 'into', 'through', 'during', 'before', 'after', 'above', 'below', 'to', 'from', 'up', 'down', 'in', 'out', 'on', 'off', 'over', 'under', 'again', 'further', 'then', 'once', 'here', 'there', 'when', 'where', 'why', 'how', 'all', 'any', 'both', 'each', 'few', 'more', 'most', 'other', 'some', 'such', 'no', 'nor', 'not', 'only', 'own', 'same', 'so', 'than', 'too', 'very', 's', 't', 'can', 'will', 'just', 'don', \"don't\", 'should', \"should've\", 'now', 'd', 'll', 'm', 'o', 're', 've', 'y', 'ain', 'aren', \"aren't\", 'couldn', \"couldn't\", 'didn', \"didn't\", 'doesn', \"doesn't\", 'hadn', \"hadn't\", 'hasn', \"hasn't\", 'haven', \"haven't\", 'isn', \"isn't\", 'ma', 'mightn', \"mightn't\", 'mustn', \"mustn't\", 'needn', \"needn't\", 'shan', \"shan't\", 'shouldn', \"shouldn't\", 'wasn', \"wasn't\", 'weren', \"weren't\", 'won', \"won't\", 'wouldn', \"wouldn't\"]\n"
     ]
    }
   ],
   "source": [
    "import nltk\n",
    "from nltk.corpus import stopwords\n",
    "print('STOPWORDS IN ENG ARE: ')\n",
    "print(stopwords.words('english'))"
   ]
  },
  {
   "cell_type": "code",
   "execution_count": 27,
   "id": "57dbfe0c",
   "metadata": {},
   "outputs": [
    {
     "name": "stdout",
     "output_type": "stream",
     "text": [
      "['one', 'reviewers', 'mentioned', 'watching', 'oz', 'episode', 'hooked', 'right', 'exactly', 'happened', 'first', 'thing', 'struck', 'oz', 'brutality', 'unflinching', 'scenes', 'violence', 'set', 'right', 'word', 'go', 'trust', 'show', 'faint', 'hearted', 'timid', 'show', 'pulls', 'punches', 'regards', 'drugs', 'sex', 'violence', 'hardcore', 'classic', 'use', 'word', 'called', 'oz', 'nickname', 'given', 'oswald', 'maximum', 'security', 'state', 'penitentary', 'focuses', 'mainly', 'emerald', 'city', 'experimental', 'section', 'prison', 'cells', 'glass', 'fronts', 'face', 'inwards', 'privacy', 'high', 'agenda', 'em', 'city', 'home', 'many', 'aryans', 'muslims', 'gangstas', 'latinos', 'christians', 'italians', 'irish', 'scuffles', 'death', 'stares', 'dodgy', 'dealings', 'shady', 'agreements', 'never', 'far', 'away', 'would', 'say', 'main', 'appeal', 'show', 'due', 'fact', 'goes', 'shows', 'dare', 'forget', 'pretty', 'pictures', 'painted', 'mainstream', 'audiences', 'forget', 'charm', 'forget', 'romance', 'oz', 'mess', 'around', 'first', 'episode', 'ever', 'saw', 'struck', 'nasty', 'surreal', 'say', 'ready', 'watched', 'developed', 'taste', 'oz', 'got', 'accustomed', 'high', 'levels', 'graphic', 'violence', 'violence', 'injustice', 'crooked', 'guards', 'sold', 'nickel', 'inmates', 'kill', 'order', 'get', 'away', 'well', 'mannered', 'middle', 'class', 'inmates', 'turned', 'prison', 'bitches', 'due', 'lack', 'street', 'skills', 'prison', 'experience', 'watching', 'oz', 'may', 'become', 'comfortable', 'uncomfortable', 'viewing', 'thats', 'get', 'touch', 'darker', 'side']\n"
     ]
    }
   ],
   "source": [
    "stop_words = set(stopwords.words('english'))\n",
    "word_tokens = word_tokenize(sentence)\n",
    "\n",
    "filtered_sentence = []\n",
    "for w in word_tokens:\n",
    "    if w not in stop_words:\n",
    "        filtered_sentence.append(w)\n",
    "\n",
    "print(filtered_sentence)"
   ]
  },
  {
   "cell_type": "code",
   "execution_count": 28,
   "id": "e97561ca",
   "metadata": {},
   "outputs": [],
   "source": [
    "sentence = \" \".join(filtered_sentence)"
   ]
  },
  {
   "cell_type": "markdown",
   "id": "3f9fc3bd",
   "metadata": {},
   "source": [
    "#### PREPROCESSING TEXT"
   ]
  },
  {
   "cell_type": "code",
   "execution_count": 29,
   "id": "5243ff29",
   "metadata": {},
   "outputs": [],
   "source": [
    "def preprocess_text(sen):\n",
    "    '''Cleans text data up, leaving only 2 or more char long non-stepwords composed of A-Z & a-z only\n",
    "    in lowercase'''\n",
    "    \n",
    "    sentence = sen.lower()\n",
    "\n",
    "    # Remove html tags\n",
    "    sentence = remove_tags(sentence)\n",
    "\n",
    "    # Remove punctuations and numbers\n",
    "    sentence = re.sub('[^a-zA-Z]', ' ', sentence)\n",
    "\n",
    "    # Single character removal\n",
    "    sentence = re.sub(r\"\\s+[a-zA-Z]\\s+\", ' ', sentence)  # When we remove apostrophe from the word \"Mark's\", the apostrophe is replaced by an empty space. Hence, we are left with single character \"s\" that we are removing here.\n",
    "\n",
    "    # Remove multiple spaces\n",
    "    sentence = re.sub(r'\\s+', ' ', sentence)  # Next, we remove all the single characters and replace it by a space which creates multiple spaces in our text. Finally, we remove the multiple spaces from our text as well.\n",
    "\n",
    "    # Remove Stopwords\n",
    "    pattern = re.compile(r'\\b(' + r'|'.join(stopwords.words('english')) + r')\\b\\s*')\n",
    "    sentence = pattern.sub('', sentence)\n",
    "\n",
    "    return sentence"
   ]
  },
  {
   "cell_type": "code",
   "execution_count": 30,
   "id": "b258e6a4",
   "metadata": {},
   "outputs": [],
   "source": [
    "X = []\n",
    "sentences = list(df['review'])\n",
    "for sen in sentences:\n",
    "    X.append(preprocess_text(sen))"
   ]
  },
  {
   "cell_type": "markdown",
   "id": "c36040bb",
   "metadata": {},
   "source": [
    "### PREPROCESSED REVIEW"
   ]
  },
  {
   "cell_type": "code",
   "execution_count": 35,
   "id": "7e61e527",
   "metadata": {},
   "outputs": [
    {
     "data": {
      "text/plain": [
       "'one reviewers mentioned watching oz episode hooked right exactly happened first thing struck oz brutality unflinching scenes violence set right word go trust show faint hearted timid show pulls punches regards drugs sex violence hardcore classic use word called oz nickname given oswald maximum security state penitentary focuses mainly emerald city experimental section prison cells glass fronts face inwards privacy high agenda em city home many aryans muslims gangstas latinos christians italians irish scuffles death stares dodgy dealings shady agreements never far away would say main appeal show due fact goes shows dare forget pretty pictures painted mainstream audiences forget charm forget romance oz mess around first episode ever saw struck nasty surreal say ready watched developed taste oz got accustomed high levels graphic violence violence injustice crooked guards sold nickel inmates kill order get away well mannered middle class inmates turned prison bitches due lack street skills prison experience watching oz may become comfortable uncomfortable viewing thats get touch darker side '"
      ]
     },
     "execution_count": 35,
     "metadata": {},
     "output_type": "execute_result"
    }
   ],
   "source": [
    "X[0]"
   ]
  },
  {
   "cell_type": "code",
   "execution_count": 36,
   "id": "c36f3266",
   "metadata": {},
   "outputs": [
    {
     "data": {
      "text/plain": [
       "sentiment\n",
       "1    25000\n",
       "0    25000\n",
       "Name: count, dtype: int64"
      ]
     },
     "execution_count": 36,
     "metadata": {},
     "output_type": "execute_result"
    }
   ],
   "source": [
    "from sklearn.preprocessing import LabelEncoder\n",
    "lb=LabelEncoder()\n",
    "df['sentiment']=lb.fit_transform(df['sentiment'])\n",
    "df['sentiment'].value_counts()"
   ]
  },
  {
   "cell_type": "markdown",
   "id": "4dd46202",
   "metadata": {},
   "source": [
    "## 4) COUNT VECTORIZER"
   ]
  },
  {
   "cell_type": "code",
   "execution_count": 49,
   "id": "ecfe3aab",
   "metadata": {},
   "outputs": [
    {
     "data": {
      "text/plain": [
       "'wonderful little production filming technique unassuming old time bbc fashion gives comforting sometimes discomforting sense realism entire piece actors extremely well chosen michael sheen got polari voices pat truly see seamless editing guided references williams diary entries well worth watching terrificly written performed piece masterful production one great master comedy life realism really comes home little things fantasy guard rather use traditional dream techniques remains solid disappears plays knowledge senses particularly scenes concerning orton halliwell sets particularly flat halliwell murals decorating every surface terribly well done '"
      ]
     },
     "execution_count": 49,
     "metadata": {},
     "output_type": "execute_result"
    }
   ],
   "source": [
    "# X[1]"
   ]
  },
  {
   "cell_type": "code",
   "execution_count": 50,
   "id": "32b0b438",
   "metadata": {},
   "outputs": [
    {
     "data": {
      "text/plain": [
       "<50000x101227 sparse matrix of type '<class 'numpy.int64'>'\n",
       "\twith 4835219 stored elements in Compressed Sparse Row format>"
      ]
     },
     "execution_count": 50,
     "metadata": {},
     "output_type": "execute_result"
    }
   ],
   "source": [
    "from sklearn.feature_extraction.text import CountVectorizer\n",
    "cv = CountVectorizer()\n",
    "x = cv.fit_transform(X)\n",
    "x"
   ]
  },
  {
   "cell_type": "code",
   "execution_count": 51,
   "id": "5029f72b",
   "metadata": {},
   "outputs": [],
   "source": [
    "y=df['sentiment']"
   ]
  },
  {
   "cell_type": "code",
   "execution_count": 52,
   "id": "8c935111",
   "metadata": {},
   "outputs": [
    {
     "name": "stdout",
     "output_type": "stream",
     "text": [
      "[[0. 1.]\n",
      " [0. 1.]\n",
      " [0. 1.]\n",
      " [1. 0.]\n",
      " [0. 1.]]\n"
     ]
    }
   ],
   "source": [
    "from keras.utils import np_utils\n",
    "npy=np_utils.to_categorical(y)\n",
    "print(npy[:5])"
   ]
  },
  {
   "cell_type": "code",
   "execution_count": 54,
   "id": "ccb6b0c0",
   "metadata": {
    "scrolled": true
   },
   "outputs": [],
   "source": [
    "from sklearn.model_selection import train_test_split\n",
    "x_train,x_test,y_train,y_test=train_test_split(x,npy,test_size=.25)"
   ]
  },
  {
   "cell_type": "code",
   "execution_count": 56,
   "id": "aa514ad5",
   "metadata": {},
   "outputs": [
    {
     "name": "stdout",
     "output_type": "stream",
     "text": [
      "(37500, 101227)\n",
      "(12500, 101227)\n",
      "(37500, 2)\n",
      "(12500, 2)\n"
     ]
    }
   ],
   "source": [
    "from sklearn.preprocessing import StandardScaler\n",
    "sc = StandardScaler(with_mean=False)\n",
    "x_train = sc.fit_transform(x_train)\n",
    "x_test = sc.transform(x_test)\n",
    "print(x_train.shape)\n",
    "print(x_test.shape)\n",
    "print(y_train.shape)\n",
    "print(y_test.shape)\n"
   ]
  },
  {
   "cell_type": "markdown",
   "id": "6bf685fa",
   "metadata": {},
   "source": [
    "#### Neural Network architecture"
   ]
  },
  {
   "cell_type": "code",
   "execution_count": 59,
   "id": "02b01e1a",
   "metadata": {},
   "outputs": [],
   "source": [
    "import tensorflow as tf\n",
    "from tensorflow import keras\n",
    "from keras.models import Sequential\n",
    "from keras.layers import Dense,Activation,Dropout\n",
    "from keras.optimizers import Adam\n",
    "from keras.metrics import categorical_crossentropy\n",
    "\n",
    "model = Sequential()\n",
    "model.add(Dense(units=16,activation='relu', input_dim=101227))\n",
    "model.add(Dense(units=2,activation='sigmoid'))\n"
   ]
  },
  {
   "cell_type": "markdown",
   "id": "66af0681",
   "metadata": {},
   "source": [
    "#### Model compiling"
   ]
  },
  {
   "cell_type": "code",
   "execution_count": 60,
   "id": "262286a4",
   "metadata": {},
   "outputs": [],
   "source": [
    "model.compile(optimizer= 'Adam', loss='categorical_crossentropy',metrics=['accuracy'])"
   ]
  },
  {
   "cell_type": "markdown",
   "id": "efdadc96",
   "metadata": {},
   "source": [
    "#### Model Summary"
   ]
  },
  {
   "cell_type": "code",
   "execution_count": 61,
   "id": "2f36ce50",
   "metadata": {},
   "outputs": [
    {
     "name": "stdout",
     "output_type": "stream",
     "text": [
      "Model: \"sequential_2\"\n",
      "_________________________________________________________________\n",
      " Layer (type)                Output Shape              Param #   \n",
      "=================================================================\n",
      " dense_4 (Dense)             (None, 16)                1619648   \n",
      "                                                                 \n",
      " dense_5 (Dense)             (None, 2)                 34        \n",
      "                                                                 \n",
      "=================================================================\n",
      "Total params: 1,619,682\n",
      "Trainable params: 1,619,682\n",
      "Non-trainable params: 0\n",
      "_________________________________________________________________\n"
     ]
    }
   ],
   "source": [
    "model.summary()"
   ]
  },
  {
   "cell_type": "markdown",
   "id": "9dd0a03d",
   "metadata": {},
   "source": [
    "#### Model Training"
   ]
  },
  {
   "cell_type": "code",
   "execution_count": 63,
   "id": "f763bd80",
   "metadata": {
    "scrolled": true
   },
   "outputs": [
    {
     "name": "stdout",
     "output_type": "stream",
     "text": [
      "Epoch 1/6\n",
      "1172/1172 [==============================] - 46s 39ms/step - loss: 0.1695 - accuracy: 0.9422\n",
      "Epoch 2/6\n",
      "1172/1172 [==============================] - 48s 41ms/step - loss: 0.0260 - accuracy: 0.9905\n",
      "Epoch 3/6\n",
      "1172/1172 [==============================] - 47s 40ms/step - loss: 0.0078 - accuracy: 0.9971\n",
      "Epoch 4/6\n",
      "1172/1172 [==============================] - 45s 38ms/step - loss: 0.0038 - accuracy: 0.9982\n",
      "Epoch 5/6\n",
      "1172/1172 [==============================] - 46s 39ms/step - loss: 0.0027 - accuracy: 0.9985\n",
      "Epoch 6/6\n",
      "1172/1172 [==============================] - 49s 41ms/step - loss: 0.0023 - accuracy: 0.9987\n"
     ]
    },
    {
     "data": {
      "text/plain": [
       "<keras.callbacks.History at 0x242b3428d60>"
      ]
     },
     "execution_count": 63,
     "metadata": {},
     "output_type": "execute_result"
    }
   ],
   "source": [
    "model.fit(x_train,y_train, epochs=6, verbose=1)"
   ]
  },
  {
   "cell_type": "markdown",
   "id": "6cceff91",
   "metadata": {},
   "source": [
    "#### Predictions on the test set"
   ]
  },
  {
   "cell_type": "code",
   "execution_count": 66,
   "id": "a8d0a35a",
   "metadata": {},
   "outputs": [
    {
     "name": "stdout",
     "output_type": "stream",
     "text": [
      "391/391 [==============================] - 4s 3ms/step - loss: 1.6456 - accuracy: 0.8558\n"
     ]
    }
   ],
   "source": [
    "score = model.evaluate(x_test, y_test, verbose=1)"
   ]
  },
  {
   "cell_type": "markdown",
   "id": "6f682bb8",
   "metadata": {},
   "source": [
    "#### Model Performance"
   ]
  },
  {
   "cell_type": "code",
   "execution_count": 67,
   "id": "8b027015",
   "metadata": {},
   "outputs": [
    {
     "name": "stdout",
     "output_type": "stream",
     "text": [
      "Test Score: 1.6455516815185547\n",
      "Test Accuracy: 0.8558400273323059\n"
     ]
    }
   ],
   "source": [
    "print(\"Test Score:\", score[0])\n",
    "print(\"Test Accuracy:\", score[1])"
   ]
  },
  {
   "cell_type": "code",
   "execution_count": 71,
   "id": "bc740796",
   "metadata": {},
   "outputs": [
    {
     "name": "stdout",
     "output_type": "stream",
     "text": [
      "391/391 [==============================] - 3s 1ms/step\n"
     ]
    },
    {
     "data": {
      "text/plain": [
       "array([[1.0000000e+00, 4.1813292e-16],\n",
       "       [5.0350440e-01, 7.3942523e-03],\n",
       "       [3.5185720e-05, 9.9999887e-01],\n",
       "       ...,\n",
       "       [4.8841251e-09, 4.2094564e-01],\n",
       "       [9.9995327e-01, 3.7326370e-03],\n",
       "       [6.5750079e-03, 3.1662695e-03]], dtype=float32)"
      ]
     },
     "execution_count": 71,
     "metadata": {},
     "output_type": "execute_result"
    }
   ],
   "source": [
    "y_pred=model.predict(x_test)\n",
    "y_pred"
   ]
  },
  {
   "cell_type": "code",
   "execution_count": 72,
   "id": "d461acbe",
   "metadata": {},
   "outputs": [
    {
     "data": {
      "text/plain": [
       "(array([0, 0, 1, ..., 1, 0, 0], dtype=int64),\n",
       " array([0, 0, 1, ..., 1, 1, 1], dtype=int64))"
      ]
     },
     "execution_count": 72,
     "metadata": {},
     "output_type": "execute_result"
    }
   ],
   "source": [
    "y_pred=np.argmax(y_pred,axis=1)\n",
    "y_test=np.argmax(y_test,axis=1)\n",
    "y_pred,y_test"
   ]
  },
  {
   "cell_type": "code",
   "execution_count": 73,
   "id": "75ce5602",
   "metadata": {},
   "outputs": [
    {
     "name": "stdout",
     "output_type": "stream",
     "text": [
      "0.85584\n",
      "[[5367  960]\n",
      " [ 842 5331]]\n",
      "              precision    recall  f1-score   support\n",
      "\n",
      "           0       0.85      0.86      0.86      6209\n",
      "           1       0.86      0.85      0.86      6291\n",
      "\n",
      "    accuracy                           0.86     12500\n",
      "   macro avg       0.86      0.86      0.86     12500\n",
      "weighted avg       0.86      0.86      0.86     12500\n",
      "\n"
     ]
    }
   ],
   "source": [
    "from sklearn.metrics import confusion_matrix\n",
    "from sklearn.metrics import classification_report\n",
    "from sklearn.metrics import accuracy_score\n",
    "print(accuracy_score(y_test,y_pred))\n",
    "print(confusion_matrix (y_test,y_pred))\n",
    "print(classification_report(y_pred,y_test))"
   ]
  },
  {
   "cell_type": "code",
   "execution_count": null,
   "id": "8a92c888",
   "metadata": {},
   "outputs": [],
   "source": []
  }
 ],
 "metadata": {
  "kernelspec": {
   "display_name": "Python 3 (ipykernel)",
   "language": "python",
   "name": "python3"
  },
  "language_info": {
   "codemirror_mode": {
    "name": "ipython",
    "version": 3
   },
   "file_extension": ".py",
   "mimetype": "text/x-python",
   "name": "python",
   "nbconvert_exporter": "python",
   "pygments_lexer": "ipython3",
   "version": "3.10.0"
  }
 },
 "nbformat": 4,
 "nbformat_minor": 5
}
